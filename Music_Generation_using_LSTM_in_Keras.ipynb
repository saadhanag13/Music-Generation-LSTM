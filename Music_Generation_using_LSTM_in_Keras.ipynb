{
 "cells": [
  {
   "cell_type": "markdown",
   "metadata": {},
   "source": [
    "## Music Generation using LSTM in Keras"
   ]
  },
  {
   "cell_type": "markdown",
   "metadata": {},
   "source": [
    "### Installing Dependencies"
   ]
  },
  {
   "cell_type": "code",
   "execution_count": 51,
   "metadata": {},
   "outputs": [
    {
     "name": "stdout",
     "output_type": "stream",
     "text": [
      "Requirement already satisfied: music21 in c:\\users\\saadh\\anaconda3\\lib\\site-packages (8.3.0)Note: you may need to restart the kernel to use updated packages.\n",
      "Requirement already satisfied: numpy in c:\\users\\saadh\\anaconda3\\lib\\site-packages (1.23.5)\n",
      "Requirement already satisfied: keras in c:\\users\\saadh\\anaconda3\\lib\\site-packages (2.11.0)\n",
      "Requirement already satisfied: tensorflow in c:\\users\\saadh\\anaconda3\\lib\\site-packages (2.11.0)\n",
      "Requirement already satisfied: mido in c:\\users\\saadh\\anaconda3\\lib\\site-packages (1.3.3)\n",
      "Requirement already satisfied: requests in c:\\users\\saadh\\anaconda3\\lib\\site-packages (from music21) (2.27.1)\n",
      "Requirement already satisfied: more-itertools in c:\\users\\saadh\\anaconda3\\lib\\site-packages (from music21) (10.7.0)\n",
      "Requirement already satisfied: chardet in c:\\users\\saadh\\anaconda3\\lib\\site-packages (from music21) (4.0.0)\n",
      "Requirement already satisfied: jsonpickle in c:\\users\\saadh\\anaconda3\\lib\\site-packages (from music21) (4.1.1)\n",
      "\n",
      "Requirement already satisfied: webcolors>=1.5 in c:\\users\\saadh\\anaconda3\\lib\\site-packages (from music21) (24.11.1)\n",
      "Requirement already satisfied: matplotlib in c:\\users\\saadh\\anaconda3\\lib\\site-packages (from music21) (3.5.1)\n",
      "Requirement already satisfied: joblib in c:\\users\\saadh\\anaconda3\\lib\\site-packages (from music21) (1.4.2)\n",
      "Requirement already satisfied: tensorflow-intel==2.11.0 in c:\\users\\saadh\\anaconda3\\lib\\site-packages (from tensorflow) (2.11.0)\n",
      "Requirement already satisfied: flatbuffers>=2.0 in c:\\users\\saadh\\anaconda3\\lib\\site-packages (from tensorflow-intel==2.11.0->tensorflow) (25.2.10)\n",
      "Requirement already satisfied: google-pasta>=0.1.1 in c:\\users\\saadh\\anaconda3\\lib\\site-packages (from tensorflow-intel==2.11.0->tensorflow) (0.2.0)\n",
      "Requirement already satisfied: setuptools in c:\\users\\saadh\\anaconda3\\lib\\site-packages (from tensorflow-intel==2.11.0->tensorflow) (61.2.0)\n",
      "Requirement already satisfied: astunparse>=1.6.0 in c:\\users\\saadh\\anaconda3\\lib\\site-packages (from tensorflow-intel==2.11.0->tensorflow) (1.6.3)\n",
      "Requirement already satisfied: wrapt>=1.11.0 in c:\\users\\saadh\\anaconda3\\lib\\site-packages (from tensorflow-intel==2.11.0->tensorflow) (1.12.1)\n",
      "Requirement already satisfied: absl-py>=1.0.0 in c:\\users\\saadh\\anaconda3\\lib\\site-packages (from tensorflow-intel==2.11.0->tensorflow) (2.3.1)\n",
      "Requirement already satisfied: opt-einsum>=2.3.2 in c:\\users\\saadh\\anaconda3\\lib\\site-packages (from tensorflow-intel==2.11.0->tensorflow) (3.4.0)\n",
      "Requirement already satisfied: protobuf<3.20,>=3.9.2 in c:\\users\\saadh\\anaconda3\\lib\\site-packages (from tensorflow-intel==2.11.0->tensorflow) (3.19.6)\n",
      "Requirement already satisfied: packaging in c:\\users\\saadh\\anaconda3\\lib\\site-packages (from tensorflow-intel==2.11.0->tensorflow) (21.3)\n",
      "Requirement already satisfied: termcolor>=1.1.0 in c:\\users\\saadh\\anaconda3\\lib\\site-packages (from tensorflow-intel==2.11.0->tensorflow) (3.1.0)\n",
      "Requirement already satisfied: six>=1.12.0 in c:\\users\\saadh\\anaconda3\\lib\\site-packages (from tensorflow-intel==2.11.0->tensorflow) (1.16.0)\n",
      "Requirement already satisfied: h5py>=2.9.0 in c:\\users\\saadh\\anaconda3\\lib\\site-packages (from tensorflow-intel==2.11.0->tensorflow) (3.14.0)\n",
      "Requirement already satisfied: grpcio<2.0,>=1.24.3 in c:\\users\\saadh\\anaconda3\\lib\\site-packages (from tensorflow-intel==2.11.0->tensorflow) (1.73.1)\n",
      "Requirement already satisfied: tensorboard<2.12,>=2.11 in c:\\users\\saadh\\anaconda3\\lib\\site-packages (from tensorflow-intel==2.11.0->tensorflow) (2.11.2)\n",
      "Requirement already satisfied: tensorflow-io-gcs-filesystem>=0.23.1 in c:\\users\\saadh\\anaconda3\\lib\\site-packages (from tensorflow-intel==2.11.0->tensorflow) (0.31.0)\n",
      "Requirement already satisfied: tensorflow-estimator<2.12,>=2.11.0 in c:\\users\\saadh\\anaconda3\\lib\\site-packages (from tensorflow-intel==2.11.0->tensorflow) (2.11.0)\n",
      "Requirement already satisfied: typing-extensions>=3.6.6 in c:\\users\\saadh\\anaconda3\\lib\\site-packages (from tensorflow-intel==2.11.0->tensorflow) (4.14.1)\n",
      "Requirement already satisfied: gast<=0.4.0,>=0.2.1 in c:\\users\\saadh\\anaconda3\\lib\\site-packages (from tensorflow-intel==2.11.0->tensorflow) (0.4.0)\n",
      "Requirement already satisfied: libclang>=13.0.0 in c:\\users\\saadh\\anaconda3\\lib\\site-packages (from tensorflow-intel==2.11.0->tensorflow) (18.1.1)\n",
      "Requirement already satisfied: wheel<1.0,>=0.23.0 in c:\\users\\saadh\\anaconda3\\lib\\site-packages (from astunparse>=1.6.0->tensorflow-intel==2.11.0->tensorflow) (0.37.1)\n",
      "Requirement already satisfied: google-auth<3,>=1.6.3 in c:\\users\\saadh\\anaconda3\\lib\\site-packages (from tensorboard<2.12,>=2.11->tensorflow-intel==2.11.0->tensorflow) (1.33.0)\n",
      "Requirement already satisfied: werkzeug>=1.0.1 in c:\\users\\saadh\\anaconda3\\lib\\site-packages (from tensorboard<2.12,>=2.11->tensorflow-intel==2.11.0->tensorflow) (2.0.3)\n",
      "Requirement already satisfied: tensorboard-data-server<0.7.0,>=0.6.0 in c:\\users\\saadh\\anaconda3\\lib\\site-packages (from tensorboard<2.12,>=2.11->tensorflow-intel==2.11.0->tensorflow) (0.6.1)\n",
      "Requirement already satisfied: markdown>=2.6.8 in c:\\users\\saadh\\anaconda3\\lib\\site-packages (from tensorboard<2.12,>=2.11->tensorflow-intel==2.11.0->tensorflow) (3.3.4)\n",
      "Requirement already satisfied: tensorboard-plugin-wit>=1.6.0 in c:\\users\\saadh\\anaconda3\\lib\\site-packages (from tensorboard<2.12,>=2.11->tensorflow-intel==2.11.0->tensorflow) (1.8.1)\n",
      "Requirement already satisfied: google-auth-oauthlib<0.5,>=0.4.1 in c:\\users\\saadh\\anaconda3\\lib\\site-packages (from tensorboard<2.12,>=2.11->tensorflow-intel==2.11.0->tensorflow) (0.4.6)\n",
      "Requirement already satisfied: cachetools<5.0,>=2.0.0 in c:\\users\\saadh\\anaconda3\\lib\\site-packages (from google-auth<3,>=1.6.3->tensorboard<2.12,>=2.11->tensorflow-intel==2.11.0->tensorflow) (4.2.2)\n",
      "Requirement already satisfied: rsa<5,>=3.1.4 in c:\\users\\saadh\\anaconda3\\lib\\site-packages (from google-auth<3,>=1.6.3->tensorboard<2.12,>=2.11->tensorflow-intel==2.11.0->tensorflow) (4.7.2)\n",
      "Requirement already satisfied: pyasn1-modules>=0.2.1 in c:\\users\\saadh\\anaconda3\\lib\\site-packages (from google-auth<3,>=1.6.3->tensorboard<2.12,>=2.11->tensorflow-intel==2.11.0->tensorflow) (0.2.8)\n",
      "Requirement already satisfied: requests-oauthlib>=0.7.0 in c:\\users\\saadh\\anaconda3\\lib\\site-packages (from google-auth-oauthlib<0.5,>=0.4.1->tensorboard<2.12,>=2.11->tensorflow-intel==2.11.0->tensorflow) (2.0.0)\n",
      "Requirement already satisfied: pyasn1<0.5.0,>=0.4.6 in c:\\users\\saadh\\anaconda3\\lib\\site-packages (from pyasn1-modules>=0.2.1->google-auth<3,>=1.6.3->tensorboard<2.12,>=2.11->tensorflow-intel==2.11.0->tensorflow) (0.4.8)\n",
      "Requirement already satisfied: charset-normalizer~=2.0.0 in c:\\users\\saadh\\anaconda3\\lib\\site-packages (from requests->music21) (2.0.4)\n",
      "Requirement already satisfied: idna<4,>=2.5 in c:\\users\\saadh\\anaconda3\\lib\\site-packages (from requests->music21) (3.3)\n",
      "Requirement already satisfied: urllib3<1.27,>=1.21.1 in c:\\users\\saadh\\anaconda3\\lib\\site-packages (from requests->music21) (1.26.9)\n",
      "Requirement already satisfied: certifi>=2017.4.17 in c:\\users\\saadh\\anaconda3\\lib\\site-packages (from requests->music21) (2021.10.8)\n",
      "Requirement already satisfied: oauthlib>=3.0.0 in c:\\users\\saadh\\anaconda3\\lib\\site-packages (from requests-oauthlib>=0.7.0->google-auth-oauthlib<0.5,>=0.4.1->tensorboard<2.12,>=2.11->tensorflow-intel==2.11.0->tensorflow) (3.3.1)\n",
      "Requirement already satisfied: pillow>=6.2.0 in c:\\users\\saadh\\anaconda3\\lib\\site-packages (from matplotlib->music21) (9.0.1)\n",
      "Requirement already satisfied: fonttools>=4.22.0 in c:\\users\\saadh\\anaconda3\\lib\\site-packages (from matplotlib->music21) (4.25.0)\n",
      "Requirement already satisfied: pyparsing>=2.2.1 in c:\\users\\saadh\\anaconda3\\lib\\site-packages (from matplotlib->music21) (3.0.4)\n",
      "Requirement already satisfied: cycler>=0.10 in c:\\users\\saadh\\anaconda3\\lib\\site-packages (from matplotlib->music21) (0.11.0)\n",
      "Requirement already satisfied: kiwisolver>=1.0.1 in c:\\users\\saadh\\anaconda3\\lib\\site-packages (from matplotlib->music21) (1.3.2)\n",
      "Requirement already satisfied: python-dateutil>=2.7 in c:\\users\\saadh\\anaconda3\\lib\\site-packages (from matplotlib->music21) (2.8.2)\n"
     ]
    }
   ],
   "source": [
    "pip install music21 numpy keras tensorflow mido"
   ]
  },
  {
   "cell_type": "markdown",
   "metadata": {},
   "source": [
    "### Parse MIDI Files & Extract Notes"
   ]
  },
  {
   "cell_type": "code",
   "execution_count": 52,
   "metadata": {},
   "outputs": [
    {
     "name": "stdout",
     "output_type": "stream",
     "text": [
      "✅ Notes extracted: 79\n"
     ]
    }
   ],
   "source": [
    "from music21 import converter, instrument, note, chord\n",
    "import glob\n",
    "import pickle\n",
    "\n",
    "notes = []\n",
    "\n",
    "for file in glob.glob(\"midi_songs/*.mid\"):\n",
    "    midi = converter.parse(file)\n",
    "    \n",
    "    parts = instrument.partitionByInstrument(midi)\n",
    "    if parts:  \n",
    "        notes_to_parse = parts.parts[0].recurse()\n",
    "    else:\n",
    "        notes_to_parse = midi.flat.notes\n",
    "    \n",
    "    for element in notes_to_parse:\n",
    "        if isinstance(element, note.Note):\n",
    "            notes.append(str(element.pitch))\n",
    "        elif isinstance(element, chord.Chord):\n",
    "            notes.append('.'.join(str(n) for n in element.normalOrder))\n",
    "\n",
    "with open(\"data/notes.pkl\", \"wb\") as f:\n",
    "    pickle.dump(notes, f)\n",
    "\n",
    "print(\"✅ Notes extracted:\", len(notes))\n"
   ]
  },
  {
   "cell_type": "markdown",
   "metadata": {},
   "source": [
    "###  Preparing Sequences for Model Input"
   ]
  },
  {
   "cell_type": "code",
   "execution_count": 53,
   "metadata": {},
   "outputs": [
    {
     "name": "stdout",
     "output_type": "stream",
     "text": [
      "✅ Total sequences: 54\n",
      "✅ Sequence preparation complete.\n",
      "Input shape: (54, 25, 1)\n",
      "Output shape: (54, 12)\n"
     ]
    }
   ],
   "source": [
    "import numpy as np\n",
    "from keras.utils import to_categorical\n",
    "import pickle\n",
    "\n",
    "sequence_length = 25  # Reduced to avoid empty sequences\n",
    "\n",
    "with open(\"data/notes.pkl\", \"rb\") as f:\n",
    "    notes = pickle.load(f)\n",
    "\n",
    "# Reverse mapping\n",
    "pitchnames = sorted(set(notes))\n",
    "note_to_int = {note: number for number, note in enumerate(pitchnames)}\n",
    "int_to_note = {number: note for note, number in note_to_int.items()}\n",
    "n_vocab = len(pitchnames)\n",
    "\n",
    "network_input = []\n",
    "network_output = []\n",
    "\n",
    "for i in range(0, len(notes) - sequence_length):\n",
    "    seq_in = notes[i:i + sequence_length]\n",
    "    seq_out = notes[i + sequence_length]\n",
    "    network_input.append([note_to_int[note] for note in seq_in])\n",
    "    network_output.append(note_to_int[seq_out])\n",
    "\n",
    "n_patterns = len(network_input)\n",
    "print(f\"✅ Total sequences: {n_patterns}\")\n",
    "\n",
    "if n_patterns == 0:\n",
    "    raise ValueError(\"❌ Not enough notes to create sequences. Consider reducing `sequence_length`.\")\n",
    "\n",
    "# Reshape input for LSTM\n",
    "network_input = np.reshape(network_input, (n_patterns, sequence_length, 1))\n",
    "network_input = network_input / float(n_vocab)\n",
    "\n",
    "# One-hot encode\n",
    "network_output = to_categorical(network_output)\n",
    "\n",
    "print(\"✅ Sequence preparation complete.\")\n",
    "print(\"Input shape:\", network_input.shape)\n",
    "print(\"Output shape:\", network_output.shape)\n"
   ]
  },
  {
   "cell_type": "markdown",
   "metadata": {},
   "source": [
    "### Define & Train the LSTM Model"
   ]
  },
  {
   "cell_type": "code",
   "execution_count": 54,
   "metadata": {},
   "outputs": [
    {
     "name": "stdout",
     "output_type": "stream",
     "text": [
      "Model: \"sequential_5\"\n",
      "_________________________________________________________________\n",
      " Layer (type)                Output Shape              Param #   \n",
      "=================================================================\n",
      " lstm_13 (LSTM)              (None, 25, 256)           264192    \n",
      "                                                                 \n",
      " dropout_13 (Dropout)        (None, 25, 256)           0         \n",
      "                                                                 \n",
      " lstm_14 (LSTM)              (None, 256)               525312    \n",
      "                                                                 \n",
      " dense_10 (Dense)            (None, 128)               32896     \n",
      "                                                                 \n",
      " dropout_14 (Dropout)        (None, 128)               0         \n",
      "                                                                 \n",
      " dense_11 (Dense)            (None, 12)                1548      \n",
      "                                                                 \n",
      " activation_5 (Activation)   (None, 12)                0         \n",
      "                                                                 \n",
      "=================================================================\n",
      "Total params: 823,948\n",
      "Trainable params: 823,948\n",
      "Non-trainable params: 0\n",
      "_________________________________________________________________\n"
     ]
    }
   ],
   "source": [
    "from keras.models import Sequential\n",
    "from keras.layers import LSTM, Dropout, Dense, Activation\n",
    "\n",
    "model = Sequential()\n",
    "model.add(LSTM(256, input_shape=(network_input.shape[1], network_input.shape[2]), return_sequences=True))\n",
    "model.add(Dropout(0.3))\n",
    "model.add(LSTM(256))\n",
    "model.add(Dense(128))\n",
    "model.add(Dropout(0.3))\n",
    "model.add(Dense(n_vocab))\n",
    "model.add(Activation('softmax'))\n",
    "\n",
    "model.compile(loss='categorical_crossentropy', optimizer='adam')\n",
    "model.summary()\n",
    "model.save(\"music_gen_model.h5\")"
   ]
  },
  {
   "cell_type": "code",
   "execution_count": 55,
   "metadata": {},
   "outputs": [
    {
     "name": "stdout",
     "output_type": "stream",
     "text": [
      "Epoch 1/50\n",
      "2/2 [==============================] - 3s 57ms/step - loss: 2.4298\n",
      "Epoch 2/50\n",
      "2/2 [==============================] - 0s 52ms/step - loss: 2.0419\n",
      "Epoch 3/50\n",
      "2/2 [==============================] - 0s 52ms/step - loss: 1.9686\n",
      "Epoch 4/50\n",
      "2/2 [==============================] - 0s 48ms/step - loss: 1.7948\n",
      "Epoch 5/50\n",
      "2/2 [==============================] - 0s 51ms/step - loss: 1.8004\n",
      "Epoch 6/50\n",
      "2/2 [==============================] - 0s 54ms/step - loss: 1.7004\n",
      "Epoch 7/50\n",
      "2/2 [==============================] - 0s 53ms/step - loss: 1.7474\n",
      "Epoch 8/50\n",
      "2/2 [==============================] - 0s 65ms/step - loss: 1.7494\n",
      "Epoch 9/50\n",
      "2/2 [==============================] - 0s 57ms/step - loss: 1.7311\n",
      "Epoch 10/50\n",
      "2/2 [==============================] - 0s 60ms/step - loss: 1.7622\n",
      "Epoch 11/50\n",
      "2/2 [==============================] - 0s 55ms/step - loss: 1.7267\n",
      "Epoch 12/50\n",
      "2/2 [==============================] - 0s 54ms/step - loss: 1.6758\n",
      "Epoch 13/50\n",
      "2/2 [==============================] - 0s 53ms/step - loss: 1.6821\n",
      "Epoch 14/50\n",
      "2/2 [==============================] - 0s 55ms/step - loss: 1.6920\n",
      "Epoch 15/50\n",
      "2/2 [==============================] - 0s 56ms/step - loss: 1.7001\n",
      "Epoch 16/50\n",
      "2/2 [==============================] - 0s 54ms/step - loss: 1.6313\n",
      "Epoch 17/50\n",
      "2/2 [==============================] - 0s 53ms/step - loss: 1.6711\n",
      "Epoch 18/50\n",
      "2/2 [==============================] - 0s 52ms/step - loss: 1.6784\n",
      "Epoch 19/50\n",
      "2/2 [==============================] - 0s 53ms/step - loss: 1.6433\n",
      "Epoch 20/50\n",
      "2/2 [==============================] - 0s 58ms/step - loss: 1.6323\n",
      "Epoch 21/50\n",
      "2/2 [==============================] - 0s 55ms/step - loss: 1.6347\n",
      "Epoch 22/50\n",
      "2/2 [==============================] - 0s 52ms/step - loss: 1.6173\n",
      "Epoch 23/50\n",
      "2/2 [==============================] - 0s 54ms/step - loss: 1.6430\n",
      "Epoch 24/50\n",
      "2/2 [==============================] - 0s 65ms/step - loss: 1.6139\n",
      "Epoch 25/50\n",
      "2/2 [==============================] - 0s 54ms/step - loss: 1.6052\n",
      "Epoch 26/50\n",
      "2/2 [==============================] - 0s 55ms/step - loss: 1.6096\n",
      "Epoch 27/50\n",
      "2/2 [==============================] - 0s 56ms/step - loss: 1.6031\n",
      "Epoch 28/50\n",
      "2/2 [==============================] - 0s 59ms/step - loss: 1.5669\n",
      "Epoch 29/50\n",
      "2/2 [==============================] - 0s 62ms/step - loss: 1.5698\n",
      "Epoch 30/50\n",
      "2/2 [==============================] - 0s 55ms/step - loss: 1.6241\n",
      "Epoch 31/50\n",
      "2/2 [==============================] - 0s 52ms/step - loss: 1.5485\n",
      "Epoch 32/50\n",
      "2/2 [==============================] - 0s 56ms/step - loss: 1.5808\n",
      "Epoch 33/50\n",
      "2/2 [==============================] - 0s 59ms/step - loss: 1.5113\n",
      "Epoch 34/50\n",
      "2/2 [==============================] - 0s 53ms/step - loss: 1.4825\n",
      "Epoch 35/50\n",
      "2/2 [==============================] - 0s 52ms/step - loss: 1.4987\n",
      "Epoch 36/50\n",
      "2/2 [==============================] - 0s 52ms/step - loss: 1.4564\n",
      "Epoch 37/50\n",
      "2/2 [==============================] - 0s 50ms/step - loss: 1.4083\n",
      "Epoch 38/50\n",
      "2/2 [==============================] - 0s 55ms/step - loss: 1.4163\n",
      "Epoch 39/50\n",
      "2/2 [==============================] - 0s 66ms/step - loss: 1.3944\n",
      "Epoch 40/50\n",
      "2/2 [==============================] - 0s 57ms/step - loss: 1.4224\n",
      "Epoch 41/50\n",
      "2/2 [==============================] - 0s 57ms/step - loss: 1.4576\n",
      "Epoch 42/50\n",
      "2/2 [==============================] - 0s 55ms/step - loss: 1.4084\n",
      "Epoch 43/50\n",
      "2/2 [==============================] - 0s 60ms/step - loss: 1.2469\n",
      "Epoch 44/50\n",
      "2/2 [==============================] - 0s 55ms/step - loss: 1.3143\n",
      "Epoch 45/50\n",
      "2/2 [==============================] - 0s 55ms/step - loss: 1.3290\n",
      "Epoch 46/50\n",
      "2/2 [==============================] - 0s 59ms/step - loss: 1.2574\n",
      "Epoch 47/50\n",
      "2/2 [==============================] - 0s 62ms/step - loss: 1.2197\n",
      "Epoch 48/50\n",
      "2/2 [==============================] - 0s 56ms/step - loss: 1.2055\n",
      "Epoch 49/50\n",
      "2/2 [==============================] - 0s 53ms/step - loss: 1.1594\n",
      "Epoch 50/50\n",
      "2/2 [==============================] - 0s 56ms/step - loss: 1.1660\n"
     ]
    },
    {
     "data": {
      "text/plain": [
       "<keras.callbacks.History at 0x24b16ebf640>"
      ]
     },
     "execution_count": 55,
     "metadata": {},
     "output_type": "execute_result"
    }
   ],
   "source": [
    "model.fit(network_input, network_output, epochs=50, batch_size=32)"
   ]
  },
  {
   "cell_type": "code",
   "execution_count": 56,
   "metadata": {},
   "outputs": [],
   "source": [
    "model.save(\"music_model.h5\")"
   ]
  },
  {
   "cell_type": "markdown",
   "metadata": {},
   "source": [
    "###  Generate Notes from the Trained Model"
   ]
  },
  {
   "cell_type": "code",
   "execution_count": 57,
   "metadata": {},
   "outputs": [],
   "source": [
    "import numpy as np\n",
    "\n",
    "def generate_notes(model, network_input, int_to_note, n_vocab, generate_length=100):\n",
    "    start = np.random.randint(0, len(network_input) - 1)\n",
    "    pattern = network_input[start]\n",
    "    pattern = pattern.reshape(1, len(pattern), 1)\n",
    "\n",
    "    prediction_output = []\n",
    "\n",
    "    for note_index in range(generate_length):\n",
    "        prediction = model.predict(pattern, verbose=0)\n",
    "        index = np.argmax(prediction)\n",
    "        result = int_to_note.get(index, None)\n",
    "        if result:\n",
    "            prediction_output.append(result)\n",
    "\n",
    "        # update input pattern\n",
    "        pattern = np.append(pattern[:, 1:, :], [[ [index / float(n_vocab)] ]], axis=1)\n",
    "\n",
    "    return prediction_output\n"
   ]
  },
  {
   "cell_type": "markdown",
   "metadata": {},
   "source": [
    "###  Convert Notes to MIDI File"
   ]
  },
  {
   "cell_type": "code",
   "execution_count": 58,
   "metadata": {},
   "outputs": [],
   "source": [
    "from music21 import instrument, note, chord, stream\n",
    "\n",
    "def create_midi(prediction_output, filename=\"output.mid\"):\n",
    "    offset = 0\n",
    "    output_notes = []\n",
    "\n",
    "    for pattern in prediction_output:\n",
    "        # chord\n",
    "        if ('.' in pattern) or pattern.isdigit():\n",
    "            notes_in_chord = pattern.split('.')\n",
    "            chord_notes = []\n",
    "            for current_note in notes_in_chord:\n",
    "                chord_notes.append(note.Note(int(current_note)))\n",
    "            new_chord = chord.Chord(chord_notes)\n",
    "            new_chord.offset = offset\n",
    "            output_notes.append(new_chord)\n",
    "        else:\n",
    "            # single note\n",
    "            new_note = note.Note(pattern)\n",
    "            new_note.offset = offset\n",
    "            output_notes.append(new_note)\n",
    "\n",
    "        offset += 0.5  # duration between notes\n",
    "\n",
    "    midi_stream = stream.Stream(output_notes)\n",
    "    midi_stream.write('midi', fp=filename)\n"
   ]
  },
  {
   "cell_type": "markdown",
   "metadata": {},
   "source": [
    "### Generate and Save Music"
   ]
  },
  {
   "cell_type": "code",
   "execution_count": 59,
   "metadata": {},
   "outputs": [],
   "source": [
    "generated_notes = generate_notes(model, network_input, int_to_note, n_vocab, generate_length=100)\n",
    "create_midi(generated_notes, filename=\"generated_music.mid\")"
   ]
  },
  {
   "cell_type": "markdown",
   "metadata": {},
   "source": [
    "### Visualize Top 20 Most Common Notes"
   ]
  },
  {
   "cell_type": "code",
   "execution_count": 60,
   "metadata": {},
   "outputs": [
    {
     "data": {
      "image/png": "[encoded data removed]",
      "text/plain": [
       "<Figure size 1008x288 with 1 Axes>"
      ]
     },
     "metadata": {
      "image/png": {
       "height": 276,
       "width": 815
      },
      "needs_background": "light"
     },
     "output_type": "display_data"
    }
   ],
   "source": [
    "from collections import Counter\n",
    "import matplotlib.pyplot as plt\n",
    "\n",
    "note_counts = Counter(notes)\n",
    "plt.figure(figsize=(14,4))\n",
    "plt.bar(*zip(*note_counts.most_common(20)))\n",
    "plt.title(\"Top 20 Most Common Notes/Chords\")\n",
    "plt.xticks(rotation=90)\n",
    "plt.show()"
   ]
  }
 ],
 "metadata": {
  "colab": {
   "provenance": []
  },
  "kernelspec": {
   "display_name": "Python 3 (ipykernel)",
   "language": "python",
   "name": "python3"
  },
  "language_info": {
   "codemirror_mode": {
    "name": "ipython",
    "version": 3
   },
   "file_extension": ".py",
   "mimetype": "text/x-python",
   "name": "python",
   "nbconvert_exporter": "python",
   "pygments_lexer": "ipython3",
   "version": "3.9.12"
  }
 },
 "nbformat": 4,
 "nbformat_minor": 1
}
