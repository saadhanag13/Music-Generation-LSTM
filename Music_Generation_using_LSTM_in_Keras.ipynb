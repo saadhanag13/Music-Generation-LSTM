{
 "cells": [
  {
   "cell_type": "markdown",
   "metadata": {},
   "source": [
    "## Music Generation using LSTM in Keras"
   ]
  },
  {
   "cell_type": "markdown",
   "metadata": {},
   "source": [
    "### Installing Dependencies"
   ]
  },
  {
   "cell_type": "code",
   "execution_count": 12,
   "metadata": {},
   "outputs": [
    {
     "name": "stdout",
     "output_type": "stream",
     "text": [
      "Requirement already satisfied: music21 in c:\\users\\saadh\\anaconda3\\lib\\site-packages (8.3.0)\n",
      "Requirement already satisfied: numpy in c:\\users\\saadh\\anaconda3\\lib\\site-packages (1.23.5)\n",
      "Requirement already satisfied: keras in c:\\users\\saadh\\anaconda3\\lib\\site-packages (2.11.0)\n",
      "Requirement already satisfied: tensorflow in c:\\users\\saadh\\anaconda3\\lib\\site-packages (2.11.0)\n",
      "Requirement already satisfied: mido in c:\\users\\saadh\\anaconda3\\lib\\site-packages (1.3.3)\n",
      "Requirement already satisfied: webcolors>=1.5 in c:\\users\\saadh\\anaconda3\\lib\\site-packages (from music21) (24.11.1)\n",
      "Requirement already satisfied: joblib in c:\\users\\saadh\\anaconda3\\lib\\site-packages (from music21) (1.4.2)\n",
      "Requirement already satisfied: requests in c:\\users\\saadh\\anaconda3\\lib\\site-packages (from music21) (2.27.1)\n",
      "Requirement already satisfied: jsonpickle in c:\\users\\saadh\\anaconda3\\lib\\site-packages (from music21) (4.1.1)\n",
      "Requirement already satisfied: more-itertools in c:\\users\\saadh\\anaconda3\\lib\\site-packages (from music21) (10.7.0)\n",
      "Requirement already satisfied: matplotlib in c:\\users\\saadh\\anaconda3\\lib\\site-packages (from music21) (3.5.1)\n",
      "Requirement already satisfied: chardet in c:\\users\\saadh\\anaconda3\\lib\\site-packages (from music21) (4.0.0)\n",
      "Requirement already satisfied: tensorflow-intel==2.11.0 in c:\\users\\saadh\\anaconda3\\lib\\site-packages (from tensorflow) (2.11.0)\n",
      "Requirement already satisfied: gast<=0.4.0,>=0.2.1 in c:\\users\\saadh\\anaconda3\\lib\\site-packages (from tensorflow-intel==2.11.0->tensorflow) (0.4.0)\n",
      "Requirement already satisfied: tensorboard<2.12,>=2.11 in c:\\users\\saadh\\anaconda3\\lib\\site-packages (from tensorflow-intel==2.11.0->tensorflow) (2.11.2)\n",
      "Requirement already satisfied: google-pasta>=0.1.1 in c:\\users\\saadh\\anaconda3\\lib\\site-packages (from tensorflow-intel==2.11.0->tensorflow) (0.2.0)\n",
      "Requirement already satisfied: libclang>=13.0.0 in c:\\users\\saadh\\anaconda3\\lib\\site-packages (from tensorflow-intel==2.11.0->tensorflow) (18.1.1)\n",
      "Requirement already satisfied: tensorflow-estimator<2.12,>=2.11.0 in c:\\users\\saadh\\anaconda3\\lib\\site-packages (from tensorflow-intel==2.11.0->tensorflow) (2.11.0)\n",
      "Requirement already satisfied: typing-extensions>=3.6.6 in c:\\users\\saadh\\anaconda3\\lib\\site-packages (from tensorflow-intel==2.11.0->tensorflow) (4.14.1)\n",
      "Requirement already satisfied: wrapt>=1.11.0 in c:\\users\\saadh\\anaconda3\\lib\\site-packages (from tensorflow-intel==2.11.0->tensorflow) (1.12.1)\n",
      "Requirement already satisfied: tensorflow-io-gcs-filesystem>=0.23.1 in c:\\users\\saadh\\anaconda3\\lib\\site-packages (from tensorflow-intel==2.11.0->tensorflow) (0.31.0)\n",
      "Requirement already satisfied: grpcio<2.0,>=1.24.3 in c:\\users\\saadh\\anaconda3\\lib\\site-packages (from tensorflow-intel==2.11.0->tensorflow) (1.73.1)\n",
      "Requirement already satisfied: opt-einsum>=2.3.2 in c:\\users\\saadh\\anaconda3\\lib\\site-packages (from tensorflow-intel==2.11.0->tensorflow) (3.4.0)\n",
      "Requirement already satisfied: termcolor>=1.1.0 in c:\\users\\saadh\\anaconda3\\lib\\site-packages (from tensorflow-intel==2.11.0->tensorflow) (3.1.0)\n",
      "Requirement already satisfied: packaging in c:\\users\\saadh\\anaconda3\\lib\\site-packages (from tensorflow-intel==2.11.0->tensorflow) (21.3)\n",
      "Requirement already satisfied: setuptools in c:\\users\\saadh\\anaconda3\\lib\\site-packages (from tensorflow-intel==2.11.0->tensorflow) (61.2.0)\n",
      "Requirement already satisfied: h5py>=2.9.0 in c:\\users\\saadh\\anaconda3\\lib\\site-packages (from tensorflow-intel==2.11.0->tensorflow) (3.14.0)\n",
      "Requirement already satisfied: six>=1.12.0 in c:\\users\\saadh\\anaconda3\\lib\\site-packages (from tensorflow-intel==2.11.0->tensorflow) (1.16.0)\n",
      "Requirement already satisfied: protobuf<3.20,>=3.9.2 in c:\\users\\saadh\\anaconda3\\lib\\site-packages (from tensorflow-intel==2.11.0->tensorflow) (3.19.6)\n",
      "Requirement already satisfied: astunparse>=1.6.0 in c:\\users\\saadh\\anaconda3\\lib\\site-packages (from tensorflow-intel==2.11.0->tensorflow) (1.6.3)\n",
      "Requirement already satisfied: flatbuffers>=2.0 in c:\\users\\saadh\\anaconda3\\lib\\site-packages (from tensorflow-intel==2.11.0->tensorflow) (25.2.10)\n",
      "Requirement already satisfied: absl-py>=1.0.0 in c:\\users\\saadh\\anaconda3\\lib\\site-packages (from tensorflow-intel==2.11.0->tensorflow) (2.3.1)\n",
      "Requirement already satisfied: wheel<1.0,>=0.23.0 in c:\\users\\saadh\\anaconda3\\lib\\site-packages (from astunparse>=1.6.0->tensorflow-intel==2.11.0->tensorflow) (0.37.1)\n",
      "Requirement already satisfied: markdown>=2.6.8 in c:\\users\\saadh\\anaconda3\\lib\\site-packages (from tensorboard<2.12,>=2.11->tensorflow-intel==2.11.0->tensorflow) (3.3.4)\n",
      "Requirement already satisfied: tensorboard-plugin-wit>=1.6.0 in c:\\users\\saadh\\anaconda3\\lib\\site-packages (from tensorboard<2.12,>=2.11->tensorflow-intel==2.11.0->tensorflow) (1.8.1)\n",
      "Requirement already satisfied: werkzeug>=1.0.1 in c:\\users\\saadh\\anaconda3\\lib\\site-packages (from tensorboard<2.12,>=2.11->tensorflow-intel==2.11.0->tensorflow) (2.0.3)\n",
      "Requirement already satisfied: tensorboard-data-server<0.7.0,>=0.6.0 in c:\\users\\saadh\\anaconda3\\lib\\site-packages (from tensorboard<2.12,>=2.11->tensorflow-intel==2.11.0->tensorflow) (0.6.1)\n",
      "Requirement already satisfied: google-auth-oauthlib<0.5,>=0.4.1 in c:\\users\\saadh\\anaconda3\\lib\\site-packages (from tensorboard<2.12,>=2.11->tensorflow-intel==2.11.0->tensorflow) (0.4.6)\n",
      "Requirement already satisfied: google-auth<3,>=1.6.3 in c:\\users\\saadh\\anaconda3\\lib\\site-packages (from tensorboard<2.12,>=2.11->tensorflow-intel==2.11.0->tensorflow) (1.33.0)\n",
      "Requirement already satisfied: rsa<5,>=3.1.4 in c:\\users\\saadh\\anaconda3\\lib\\site-packages (from google-auth<3,>=1.6.3->tensorboard<2.12,>=2.11->tensorflow-intel==2.11.0->tensorflow) (4.7.2)\n",
      "Requirement already satisfied: cachetools<5.0,>=2.0.0 in c:\\users\\saadh\\anaconda3\\lib\\site-packages (from google-auth<3,>=1.6.3->tensorboard<2.12,>=2.11->tensorflow-intel==2.11.0->tensorflow) (4.2.2)\n",
      "Requirement already satisfied: pyasn1-modules>=0.2.1 in c:\\users\\saadh\\anaconda3\\lib\\site-packages (from google-auth<3,>=1.6.3->tensorboard<2.12,>=2.11->tensorflow-intel==2.11.0->tensorflow) (0.2.8)\n",
      "Requirement already satisfied: requests-oauthlib>=0.7.0 in c:\\users\\saadh\\anaconda3\\lib\\site-packages (from google-auth-oauthlib<0.5,>=0.4.1->tensorboard<2.12,>=2.11->tensorflow-intel==2.11.0->tensorflow) (2.0.0)\n",
      "Requirement already satisfied: pyasn1<0.5.0,>=0.4.6 in c:\\users\\saadh\\anaconda3\\lib\\site-packages (from pyasn1-modules>=0.2.1->google-auth<3,>=1.6.3->tensorboard<2.12,>=2.11->tensorflow-intel==2.11.0->tensorflow) (0.4.8)\n",
      "Requirement already satisfied: idna<4,>=2.5 in c:\\users\\saadh\\anaconda3\\lib\\site-packages (from requests->music21) (3.3)\n",
      "Requirement already satisfied: certifi>=2017.4.17 in c:\\users\\saadh\\anaconda3\\lib\\site-packages (from requests->music21) (2021.10.8)\n",
      "Requirement already satisfied: urllib3<1.27,>=1.21.1 in c:\\users\\saadh\\anaconda3\\lib\\site-packages (from requests->music21) (1.26.9)\n",
      "Requirement already satisfied: charset-normalizer~=2.0.0 in c:\\users\\saadh\\anaconda3\\lib\\site-packages (from requests->music21) (2.0.4)\n",
      "Requirement already satisfied: oauthlib>=3.0.0 in c:\\users\\saadh\\anaconda3\\lib\\site-packages (from requests-oauthlib>=0.7.0->google-auth-oauthlib<0.5,>=0.4.1->tensorboard<2.12,>=2.11->tensorflow-intel==2.11.0->tensorflow) (3.3.1)\n",
      "Requirement already satisfied: pillow>=6.2.0 in c:\\users\\saadh\\anaconda3\\lib\\site-packages (from matplotlib->music21) (9.0.1)\n",
      "Requirement already satisfied: cycler>=0.10 in c:\\users\\saadh\\anaconda3\\lib\\site-packages (from matplotlib->music21) (0.11.0)\n",
      "Requirement already satisfied: pyparsing>=2.2.1 in c:\\users\\saadh\\anaconda3\\lib\\site-packages (from matplotlib->music21) (3.2.3)\n",
      "Requirement already satisfied: fonttools>=4.22.0 in c:\\users\\saadh\\anaconda3\\lib\\site-packages (from matplotlib->music21) (4.25.0)\n",
      "Requirement already satisfied: kiwisolver>=1.0.1 in c:\\users\\saadh\\anaconda3\\lib\\site-packages (from matplotlib->music21) (1.3.2)\n",
      "Requirement already satisfied: python-dateutil>=2.7 in c:\\users\\saadh\\anaconda3\\lib\\site-packages (from matplotlib->music21) (2.8.2)\n",
      "Note: you may need to restart the kernel to use updated packages.\n"
     ]
    }
   ],
   "source": [
    "pip install music21 numpy keras tensorflow mido"
   ]
  },
  {
   "cell_type": "markdown",
   "metadata": {},
   "source": [
    "### Parse MIDI Files & Extract Notes"
   ]
  },
  {
   "cell_type": "code",
   "execution_count": 13,
   "metadata": {},
   "outputs": [
    {
     "name": "stdout",
     "output_type": "stream",
     "text": [
      "✅ Notes extracted: 79\n"
     ]
    }
   ],
   "source": [
    "from music21 import converter, instrument, note, chord\n",
    "import glob\n",
    "import pickle\n",
    "\n",
    "notes = []\n",
    "\n",
    "for file in glob.glob(\"midi_songs/*.mid\"):\n",
    "    midi = converter.parse(file)\n",
    "    \n",
    "    parts = instrument.partitionByInstrument(midi)\n",
    "    if parts:  \n",
    "        notes_to_parse = parts.parts[0].recurse()\n",
    "    else:\n",
    "        notes_to_parse = midi.flat.notes\n",
    "    \n",
    "    for element in notes_to_parse:\n",
    "        if isinstance(element, note.Note):\n",
    "            notes.append(str(element.pitch))\n",
    "        elif isinstance(element, chord.Chord):\n",
    "            notes.append('.'.join(str(n) for n in element.normalOrder))\n",
    "\n",
    "with open(\"data/notes.pkl\", \"wb\") as f:\n",
    "    pickle.dump(notes, f)\n",
    "\n",
    "print(\"✅ Notes extracted:\", len(notes))\n"
   ]
  },
  {
   "cell_type": "markdown",
   "metadata": {},
   "source": [
    "###  Preparing Sequences for Model Input"
   ]
  },
  {
   "cell_type": "code",
   "execution_count": 14,
   "metadata": {},
   "outputs": [
    {
     "name": "stdout",
     "output_type": "stream",
     "text": [
      "✅ Total sequences: 54\n",
      "✅ Sequence preparation complete.\n",
      "Input shape: (54, 25, 1)\n",
      "Output shape: (54, 12)\n"
     ]
    }
   ],
   "source": [
    "import numpy as np\n",
    "from keras.utils import to_categorical\n",
    "import pickle\n",
    "\n",
    "sequence_length = 25  # Reduced to avoid empty sequences\n",
    "\n",
    "with open(\"data/notes.pkl\", \"rb\") as f:\n",
    "    notes = pickle.load(f)\n",
    "\n",
    "# Reverse mapping\n",
    "pitchnames = sorted(set(notes))\n",
    "note_to_int = {note: number for number, note in enumerate(pitchnames)}\n",
    "int_to_note = {number: note for note, number in note_to_int.items()}\n",
    "n_vocab = len(pitchnames)\n",
    "\n",
    "network_input = []\n",
    "network_output = []\n",
    "\n",
    "for i in range(0, len(notes) - sequence_length):\n",
    "    seq_in = notes[i:i + sequence_length]\n",
    "    seq_out = notes[i + sequence_length]\n",
    "    network_input.append([note_to_int[note] for note in seq_in])\n",
    "    network_output.append(note_to_int[seq_out])\n",
    "\n",
    "n_patterns = len(network_input)\n",
    "print(f\"✅ Total sequences: {n_patterns}\")\n",
    "\n",
    "if n_patterns == 0:\n",
    "    raise ValueError(\"❌ Not enough notes to create sequences. Consider reducing `sequence_length`.\")\n",
    "\n",
    "# Reshape input for LSTM\n",
    "network_input = np.reshape(network_input, (n_patterns, sequence_length, 1))\n",
    "network_input = network_input / float(n_vocab)\n",
    "\n",
    "# One-hot encode\n",
    "network_output = to_categorical(network_output)\n",
    "\n",
    "print(\"✅ Sequence preparation complete.\")\n",
    "print(\"Input shape:\", network_input.shape)\n",
    "print(\"Output shape:\", network_output.shape)\n"
   ]
  },
  {
   "cell_type": "markdown",
   "metadata": {},
   "source": [
    "### Define & Train the LSTM Model"
   ]
  },
  {
   "cell_type": "code",
   "execution_count": 15,
   "metadata": {},
   "outputs": [
    {
     "name": "stdout",
     "output_type": "stream",
     "text": [
      "Model: \"sequential_1\"\n",
      "_________________________________________________________________\n",
      " Layer (type)                Output Shape              Param #   \n",
      "=================================================================\n",
      " lstm_2 (LSTM)               (None, 25, 256)           264192    \n",
      "                                                                 \n",
      " dropout_2 (Dropout)         (None, 25, 256)           0         \n",
      "                                                                 \n",
      " lstm_3 (LSTM)               (None, 256)               525312    \n",
      "                                                                 \n",
      " dense_2 (Dense)             (None, 128)               32896     \n",
      "                                                                 \n",
      " dropout_3 (Dropout)         (None, 128)               0         \n",
      "                                                                 \n",
      " dense_3 (Dense)             (None, 12)                1548      \n",
      "                                                                 \n",
      " activation_1 (Activation)   (None, 12)                0         \n",
      "                                                                 \n",
      "=================================================================\n",
      "Total params: 823,948\n",
      "Trainable params: 823,948\n",
      "Non-trainable params: 0\n",
      "_________________________________________________________________\n"
     ]
    }
   ],
   "source": [
    "from keras.models import Sequential\n",
    "from keras.layers import LSTM, Dropout, Dense, Activation\n",
    "\n",
    "model = Sequential()\n",
    "model.add(LSTM(256, input_shape=(network_input.shape[1], network_input.shape[2]), return_sequences=True))\n",
    "model.add(Dropout(0.3))\n",
    "model.add(LSTM(256))\n",
    "model.add(Dense(128))\n",
    "model.add(Dropout(0.3))\n",
    "model.add(Dense(n_vocab))\n",
    "model.add(Activation('softmax'))\n",
    "\n",
    "model.compile(loss='categorical_crossentropy', optimizer='adam')\n",
    "model.summary()\n",
    "model.save(\"music_gen_model.h5\")"
   ]
  },
  {
   "cell_type": "code",
   "execution_count": 16,
   "metadata": {},
   "outputs": [
    {
     "name": "stdout",
     "output_type": "stream",
     "text": [
      "Epoch 1/50\n",
      "2/2 [==============================] - 3s 51ms/step - loss: 2.3986\n",
      "Epoch 2/50\n",
      "2/2 [==============================] - 0s 52ms/step - loss: 1.9620\n",
      "Epoch 3/50\n",
      "2/2 [==============================] - 0s 54ms/step - loss: 2.1172\n",
      "Epoch 4/50\n",
      "2/2 [==============================] - 0s 59ms/step - loss: 1.8376\n",
      "Epoch 5/50\n",
      "2/2 [==============================] - 0s 70ms/step - loss: 1.8962\n",
      "Epoch 6/50\n",
      "2/2 [==============================] - 0s 53ms/step - loss: 1.8340\n",
      "Epoch 7/50\n",
      "2/2 [==============================] - 0s 54ms/step - loss: 1.7084\n",
      "Epoch 8/50\n",
      "2/2 [==============================] - 0s 54ms/step - loss: 1.7545\n",
      "Epoch 9/50\n",
      "2/2 [==============================] - 0s 65ms/step - loss: 1.7509\n",
      "Epoch 10/50\n",
      "2/2 [==============================] - 0s 55ms/step - loss: 1.7133\n",
      "Epoch 11/50\n",
      "2/2 [==============================] - 0s 55ms/step - loss: 1.7128\n",
      "Epoch 12/50\n",
      "2/2 [==============================] - 0s 52ms/step - loss: 1.7638\n",
      "Epoch 13/50\n",
      "2/2 [==============================] - 0s 53ms/step - loss: 1.7172\n",
      "Epoch 14/50\n",
      "2/2 [==============================] - 0s 51ms/step - loss: 1.6966\n",
      "Epoch 15/50\n",
      "2/2 [==============================] - 0s 51ms/step - loss: 1.6694\n",
      "Epoch 16/50\n",
      "2/2 [==============================] - 0s 55ms/step - loss: 1.6853\n",
      "Epoch 17/50\n",
      "2/2 [==============================] - 0s 52ms/step - loss: 1.6755\n",
      "Epoch 18/50\n",
      "2/2 [==============================] - 0s 62ms/step - loss: 1.6511\n",
      "Epoch 19/50\n",
      "2/2 [==============================] - 0s 59ms/step - loss: 1.6613\n",
      "Epoch 20/50\n",
      "2/2 [==============================] - 0s 51ms/step - loss: 1.6599\n",
      "Epoch 21/50\n",
      "2/2 [==============================] - 0s 55ms/step - loss: 1.6207\n",
      "Epoch 22/50\n",
      "2/2 [==============================] - 0s 52ms/step - loss: 1.6691\n",
      "Epoch 23/50\n",
      "2/2 [==============================] - 0s 55ms/step - loss: 1.6990\n",
      "Epoch 24/50\n",
      "2/2 [==============================] - 0s 53ms/step - loss: 1.6097\n",
      "Epoch 25/50\n",
      "2/2 [==============================] - 0s 51ms/step - loss: 1.6425\n",
      "Epoch 26/50\n",
      "2/2 [==============================] - 0s 58ms/step - loss: 1.6238\n",
      "Epoch 27/50\n",
      "2/2 [==============================] - 0s 59ms/step - loss: 1.6209\n",
      "Epoch 28/50\n",
      "2/2 [==============================] - 0s 58ms/step - loss: 1.6217\n",
      "Epoch 29/50\n",
      "2/2 [==============================] - 0s 53ms/step - loss: 1.6147\n",
      "Epoch 30/50\n",
      "2/2 [==============================] - 0s 51ms/step - loss: 1.6267\n",
      "Epoch 31/50\n",
      "2/2 [==============================] - 0s 57ms/step - loss: 1.5888\n",
      "Epoch 32/50\n",
      "2/2 [==============================] - 0s 61ms/step - loss: 1.6028\n",
      "Epoch 33/50\n",
      "2/2 [==============================] - 0s 50ms/step - loss: 1.5957\n",
      "Epoch 34/50\n",
      "2/2 [==============================] - 0s 55ms/step - loss: 1.5674\n",
      "Epoch 35/50\n",
      "2/2 [==============================] - 0s 54ms/step - loss: 1.5423\n",
      "Epoch 36/50\n",
      "2/2 [==============================] - 0s 58ms/step - loss: 1.5389\n",
      "Epoch 37/50\n",
      "2/2 [==============================] - 0s 58ms/step - loss: 1.5683\n",
      "Epoch 38/50\n",
      "2/2 [==============================] - 0s 54ms/step - loss: 1.5970\n",
      "Epoch 39/50\n",
      "2/2 [==============================] - 0s 77ms/step - loss: 1.5315\n",
      "Epoch 40/50\n",
      "2/2 [==============================] - 0s 51ms/step - loss: 1.5336\n",
      "Epoch 41/50\n",
      "2/2 [==============================] - 0s 53ms/step - loss: 1.5092\n",
      "Epoch 42/50\n",
      "2/2 [==============================] - 0s 60ms/step - loss: 1.5131\n",
      "Epoch 43/50\n",
      "2/2 [==============================] - 0s 59ms/step - loss: 1.4086\n",
      "Epoch 44/50\n",
      "2/2 [==============================] - 0s 52ms/step - loss: 1.4589\n",
      "Epoch 45/50\n",
      "2/2 [==============================] - 0s 57ms/step - loss: 1.3926\n",
      "Epoch 46/50\n",
      "2/2 [==============================] - 0s 61ms/step - loss: 1.4148\n",
      "Epoch 47/50\n",
      "2/2 [==============================] - 0s 53ms/step - loss: 1.2953\n",
      "Epoch 48/50\n",
      "2/2 [==============================] - 0s 53ms/step - loss: 1.3357\n",
      "Epoch 49/50\n",
      "2/2 [==============================] - 0s 54ms/step - loss: 1.2278\n",
      "Epoch 50/50\n",
      "2/2 [==============================] - 0s 57ms/step - loss: 1.1788\n"
     ]
    }
   ],
   "source": [
    "history= model.fit(network_input, network_output, epochs=50, batch_size=32)"
   ]
  },
  {
   "cell_type": "code",
   "execution_count": 17,
   "metadata": {},
   "outputs": [],
   "source": [
    "model.save(\"music_model.h5\")"
   ]
  },
  {
   "cell_type": "markdown",
   "metadata": {},
   "source": [
    "###  Generate Notes from the Trained Model"
   ]
  },
  {
   "cell_type": "code",
   "execution_count": 18,
   "metadata": {},
   "outputs": [],
   "source": [
    "import numpy as np\n",
    "\n",
    "def generate_notes(model, network_input, int_to_note, n_vocab, generate_length=100):\n",
    "    start = np.random.randint(0, len(network_input) - 1)\n",
    "    pattern = network_input[start]\n",
    "    pattern = pattern.reshape(1, len(pattern), 1)\n",
    "\n",
    "    prediction_output = []\n",
    "\n",
    "    for note_index in range(generate_length):\n",
    "        prediction = model.predict(pattern, verbose=0)\n",
    "        index = np.argmax(prediction)\n",
    "        result = int_to_note.get(index, None)\n",
    "        if result:\n",
    "            prediction_output.append(result)\n",
    "\n",
    "        # update input pattern\n",
    "        pattern = np.append(pattern[:, 1:, :], [[ [index / float(n_vocab)] ]], axis=1)\n",
    "\n",
    "    return prediction_output\n"
   ]
  },
  {
   "cell_type": "markdown",
   "metadata": {},
   "source": [
    "###  Convert Notes to MIDI File"
   ]
  },
  {
   "cell_type": "code",
   "execution_count": 19,
   "metadata": {},
   "outputs": [],
   "source": [
    "from music21 import instrument, note, chord, stream\n",
    "\n",
    "def create_midi(prediction_output, filename=\"output.mid\"):\n",
    "    offset = 0\n",
    "    output_notes = []\n",
    "\n",
    "    for pattern in prediction_output:\n",
    "        # chord\n",
    "        if ('.' in pattern) or pattern.isdigit():\n",
    "            notes_in_chord = pattern.split('.')\n",
    "            chord_notes = []\n",
    "            for current_note in notes_in_chord:\n",
    "                chord_notes.append(note.Note(int(current_note)))\n",
    "            new_chord = chord.Chord(chord_notes)\n",
    "            new_chord.offset = offset\n",
    "            output_notes.append(new_chord)\n",
    "        else:\n",
    "            # single note\n",
    "            new_note = note.Note(pattern)\n",
    "            new_note.offset = offset\n",
    "            output_notes.append(new_note)\n",
    "\n",
    "        offset += 0.5  # duration between notes\n",
    "\n",
    "    midi_stream = stream.Stream(output_notes)\n",
    "    midi_stream.write('midi', fp=filename)\n"
   ]
  },
  {
   "cell_type": "markdown",
   "metadata": {},
   "source": [
    "### Generate and Save Music"
   ]
  },
  {
   "cell_type": "code",
   "execution_count": 20,
   "metadata": {},
   "outputs": [],
   "source": [
    "generated_notes = generate_notes(model, network_input, int_to_note, n_vocab, generate_length=100)\n",
    "create_midi(generated_notes, filename=\"generated_music.mid\")"
   ]
  },
  {
   "cell_type": "markdown",
   "metadata": {},
   "source": [
    "### Visualize Top 20 Most Common Notes"
   ]
  },
  {
   "cell_type": "code",
   "execution_count": 21,
   "metadata": {},
   "outputs": [
    {
     "data": {
      "image/png": "[encoded data removed]",
      "text/plain": [
       "<Figure size 1008x288 with 1 Axes>"
      ]
     },
     "metadata": {
      "image/png": {
       "height": 276,
       "width": 815
      },
      "needs_background": "light"
     },
     "output_type": "display_data"
    }
   ],
   "source": [
    "from collections import Counter\n",
    "import matplotlib.pyplot as plt\n",
    "\n",
    "note_counts = Counter(notes)\n",
    "plt.figure(figsize=(14,4))\n",
    "plt.bar(*zip(*note_counts.most_common(20)))\n",
    "plt.title(\"Top 20 Most Common Notes/Chords\")\n",
    "plt.xticks(rotation=90)\n",
    "plt.show()"
   ]
  },
  {
   "cell_type": "markdown",
   "metadata": {},
   "source": [
    "### Training Loss Curve"
   ]
  },
  {
   "cell_type": "code",
   "execution_count": 26,
   "metadata": {},
   "outputs": [
    {
     "data": {
      "image/png": "[encoded data removed]",
      "text/plain": [
       "<Figure size 432x288 with 1 Axes>"
      ]
     },
     "metadata": {
      "image/png": {
       "height": 277,
       "width": 385
      },
      "needs_background": "light"
     },
     "output_type": "display_data"
    }
   ],
   "source": [
    "import matplotlib.pyplot as plt\n",
    "\n",
    "plt.plot(history.history['loss'])\n",
    "plt.title('Model Loss')\n",
    "plt.ylabel('Loss')\n",
    "plt.xlabel('Epoch')\n",
    "plt.grid()\n",
    "plt.savefig(\"training_loss_curve.png\")\n",
    "plt.show()\n"
   ]
  }
 ],
 "metadata": {
  "colab": {
   "provenance": []
  },
  "kernelspec": {
   "display_name": "Python 3 (ipykernel)",
   "language": "python",
   "name": "python3"
  },
  "language_info": {
   "codemirror_mode": {
    "name": "ipython",
    "version": 3
   },
   "file_extension": ".py",
   "mimetype": "text/x-python",
   "name": "python",
   "nbconvert_exporter": "python",
   "pygments_lexer": "ipython3",
   "version": "3.9.12"
  }
 },
 "nbformat": 4,
 "nbformat_minor": 1
}
