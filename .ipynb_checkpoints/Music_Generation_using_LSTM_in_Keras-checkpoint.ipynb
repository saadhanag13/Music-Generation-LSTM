{
 "cells": [
  {
   "cell_type": "markdown",
   "metadata": {},
   "source": [
    "## Music Generation using LSTM in Keras"
   ]
  },
  {
   "cell_type": "markdown",
   "metadata": {},
   "source": [
    "### Objective\n",
    "\n",
    "The goal of this project is to build a music generation model using an LSTM (Long Short-Term Memory) neural network. By training on a dataset of MIDI files, the model learns musical patterns and generates new sequences of music."
   ]
  },
  {
   "cell_type": "markdown",
   "metadata": {},
   "source": [
    "### Installing Dependencies"
   ]
  },
  {
   "cell_type": "code",
   "execution_count": 45,
   "metadata": {},
   "outputs": [
    {
     "name": "stdout",
     "output_type": "stream",
     "text": [
      "Requirement already satisfied: music21 in c:\\users\\saadh\\anaconda3\\lib\\site-packages (8.3.0)Note: you may need to restart the kernel to use updated packages.\n",
      "\n",
      "Requirement already satisfied: numpy in c:\\users\\saadh\\anaconda3\\lib\\site-packages (1.23.5)\n",
      "Requirement already satisfied: keras in c:\\users\\saadh\\anaconda3\\lib\\site-packages (2.11.0)\n",
      "Requirement already satisfied: tensorflow in c:\\users\\saadh\\anaconda3\\lib\\site-packages (2.11.0)\n",
      "Requirement already satisfied: mido in c:\\users\\saadh\\anaconda3\\lib\\site-packages (1.3.3)\n",
      "Requirement already satisfied: webcolors>=1.5 in c:\\users\\saadh\\anaconda3\\lib\\site-packages (from music21) (24.11.1)\n",
      "Requirement already satisfied: chardet in c:\\users\\saadh\\anaconda3\\lib\\site-packages (from music21) (4.0.0)\n",
      "Requirement already satisfied: joblib in c:\\users\\saadh\\anaconda3\\lib\\site-packages (from music21) (1.4.2)\n",
      "Requirement already satisfied: more-itertools in c:\\users\\saadh\\anaconda3\\lib\\site-packages (from music21) (10.7.0)\n",
      "Requirement already satisfied: matplotlib in c:\\users\\saadh\\anaconda3\\lib\\site-packages (from music21) (3.5.1)\n",
      "Requirement already satisfied: jsonpickle in c:\\users\\saadh\\anaconda3\\lib\\site-packages (from music21) (4.1.1)\n",
      "Requirement already satisfied: requests in c:\\users\\saadh\\anaconda3\\lib\\site-packages (from music21) (2.27.1)\n",
      "Requirement already satisfied: tensorflow-intel==2.11.0 in c:\\users\\saadh\\anaconda3\\lib\\site-packages (from tensorflow) (2.11.0)\n",
      "Requirement already satisfied: h5py>=2.9.0 in c:\\users\\saadh\\anaconda3\\lib\\site-packages (from tensorflow-intel==2.11.0->tensorflow) (3.14.0)\n",
      "Requirement already satisfied: typing-extensions>=3.6.6 in c:\\users\\saadh\\anaconda3\\lib\\site-packages (from tensorflow-intel==2.11.0->tensorflow) (4.14.1)\n",
      "Requirement already satisfied: tensorboard<2.12,>=2.11 in c:\\users\\saadh\\anaconda3\\lib\\site-packages (from tensorflow-intel==2.11.0->tensorflow) (2.11.2)\n",
      "Requirement already satisfied: flatbuffers>=2.0 in c:\\users\\saadh\\anaconda3\\lib\\site-packages (from tensorflow-intel==2.11.0->tensorflow) (25.2.10)\n",
      "Requirement already satisfied: six>=1.12.0 in c:\\users\\saadh\\anaconda3\\lib\\site-packages (from tensorflow-intel==2.11.0->tensorflow) (1.16.0)\n",
      "Requirement already satisfied: termcolor>=1.1.0 in c:\\users\\saadh\\anaconda3\\lib\\site-packages (from tensorflow-intel==2.11.0->tensorflow) (3.1.0)\n",
      "Requirement already satisfied: setuptools in c:\\users\\saadh\\anaconda3\\lib\\site-packages (from tensorflow-intel==2.11.0->tensorflow) (61.2.0)\n",
      "Requirement already satisfied: grpcio<2.0,>=1.24.3 in c:\\users\\saadh\\anaconda3\\lib\\site-packages (from tensorflow-intel==2.11.0->tensorflow) (1.73.1)\n",
      "Requirement already satisfied: tensorflow-estimator<2.12,>=2.11.0 in c:\\users\\saadh\\anaconda3\\lib\\site-packages (from tensorflow-intel==2.11.0->tensorflow) (2.11.0)\n",
      "Requirement already satisfied: gast<=0.4.0,>=0.2.1 in c:\\users\\saadh\\anaconda3\\lib\\site-packages (from tensorflow-intel==2.11.0->tensorflow) (0.4.0)\n",
      "Requirement already satisfied: google-pasta>=0.1.1 in c:\\users\\saadh\\anaconda3\\lib\\site-packages (from tensorflow-intel==2.11.0->tensorflow) (0.2.0)\n",
      "Requirement already satisfied: tensorflow-io-gcs-filesystem>=0.23.1 in c:\\users\\saadh\\anaconda3\\lib\\site-packages (from tensorflow-intel==2.11.0->tensorflow) (0.31.0)\n",
      "Requirement already satisfied: protobuf<3.20,>=3.9.2 in c:\\users\\saadh\\anaconda3\\lib\\site-packages (from tensorflow-intel==2.11.0->tensorflow) (3.19.6)\n",
      "Requirement already satisfied: opt-einsum>=2.3.2 in c:\\users\\saadh\\anaconda3\\lib\\site-packages (from tensorflow-intel==2.11.0->tensorflow) (3.4.0)\n",
      "Requirement already satisfied: packaging in c:\\users\\saadh\\anaconda3\\lib\\site-packages (from tensorflow-intel==2.11.0->tensorflow) (21.3)\n",
      "Requirement already satisfied: wrapt>=1.11.0 in c:\\users\\saadh\\anaconda3\\lib\\site-packages (from tensorflow-intel==2.11.0->tensorflow) (1.12.1)\n",
      "Requirement already satisfied: libclang>=13.0.0 in c:\\users\\saadh\\anaconda3\\lib\\site-packages (from tensorflow-intel==2.11.0->tensorflow) (18.1.1)\n",
      "Requirement already satisfied: astunparse>=1.6.0 in c:\\users\\saadh\\anaconda3\\lib\\site-packages (from tensorflow-intel==2.11.0->tensorflow) (1.6.3)\n",
      "Requirement already satisfied: absl-py>=1.0.0 in c:\\users\\saadh\\anaconda3\\lib\\site-packages (from tensorflow-intel==2.11.0->tensorflow) (2.3.1)\n",
      "Requirement already satisfied: wheel<1.0,>=0.23.0 in c:\\users\\saadh\\anaconda3\\lib\\site-packages (from astunparse>=1.6.0->tensorflow-intel==2.11.0->tensorflow) (0.37.1)\n",
      "Requirement already satisfied: markdown>=2.6.8 in c:\\users\\saadh\\anaconda3\\lib\\site-packages (from tensorboard<2.12,>=2.11->tensorflow-intel==2.11.0->tensorflow) (3.3.4)\n",
      "Requirement already satisfied: google-auth-oauthlib<0.5,>=0.4.1 in c:\\users\\saadh\\anaconda3\\lib\\site-packages (from tensorboard<2.12,>=2.11->tensorflow-intel==2.11.0->tensorflow) (0.4.6)\n",
      "Requirement already satisfied: werkzeug>=1.0.1 in c:\\users\\saadh\\anaconda3\\lib\\site-packages (from tensorboard<2.12,>=2.11->tensorflow-intel==2.11.0->tensorflow) (2.0.3)\n",
      "Requirement already satisfied: tensorboard-data-server<0.7.0,>=0.6.0 in c:\\users\\saadh\\anaconda3\\lib\\site-packages (from tensorboard<2.12,>=2.11->tensorflow-intel==2.11.0->tensorflow) (0.6.1)\n",
      "Requirement already satisfied: tensorboard-plugin-wit>=1.6.0 in c:\\users\\saadh\\anaconda3\\lib\\site-packages (from tensorboard<2.12,>=2.11->tensorflow-intel==2.11.0->tensorflow) (1.8.1)\n",
      "Requirement already satisfied: google-auth<3,>=1.6.3 in c:\\users\\saadh\\anaconda3\\lib\\site-packages (from tensorboard<2.12,>=2.11->tensorflow-intel==2.11.0->tensorflow) (1.33.0)\n",
      "Requirement already satisfied: rsa<5,>=3.1.4 in c:\\users\\saadh\\anaconda3\\lib\\site-packages (from google-auth<3,>=1.6.3->tensorboard<2.12,>=2.11->tensorflow-intel==2.11.0->tensorflow) (4.7.2)\n",
      "Requirement already satisfied: cachetools<5.0,>=2.0.0 in c:\\users\\saadh\\anaconda3\\lib\\site-packages (from google-auth<3,>=1.6.3->tensorboard<2.12,>=2.11->tensorflow-intel==2.11.0->tensorflow) (4.2.2)\n",
      "Requirement already satisfied: pyasn1-modules>=0.2.1 in c:\\users\\saadh\\anaconda3\\lib\\site-packages (from google-auth<3,>=1.6.3->tensorboard<2.12,>=2.11->tensorflow-intel==2.11.0->tensorflow) (0.2.8)\n",
      "Requirement already satisfied: requests-oauthlib>=0.7.0 in c:\\users\\saadh\\anaconda3\\lib\\site-packages (from google-auth-oauthlib<0.5,>=0.4.1->tensorboard<2.12,>=2.11->tensorflow-intel==2.11.0->tensorflow) (2.0.0)\n",
      "Requirement already satisfied: pyasn1<0.5.0,>=0.4.6 in c:\\users\\saadh\\anaconda3\\lib\\site-packages (from pyasn1-modules>=0.2.1->google-auth<3,>=1.6.3->tensorboard<2.12,>=2.11->tensorflow-intel==2.11.0->tensorflow) (0.4.8)\n",
      "Requirement already satisfied: certifi>=2017.4.17 in c:\\users\\saadh\\anaconda3\\lib\\site-packages (from requests->music21) (2021.10.8)\n",
      "Requirement already satisfied: charset-normalizer~=2.0.0 in c:\\users\\saadh\\anaconda3\\lib\\site-packages (from requests->music21) (2.0.4)\n",
      "Requirement already satisfied: urllib3<1.27,>=1.21.1 in c:\\users\\saadh\\anaconda3\\lib\\site-packages (from requests->music21) (1.26.9)\n",
      "Requirement already satisfied: idna<4,>=2.5 in c:\\users\\saadh\\anaconda3\\lib\\site-packages (from requests->music21) (3.3)\n",
      "Requirement already satisfied: oauthlib>=3.0.0 in c:\\users\\saadh\\anaconda3\\lib\\site-packages (from requests-oauthlib>=0.7.0->google-auth-oauthlib<0.5,>=0.4.1->tensorboard<2.12,>=2.11->tensorflow-intel==2.11.0->tensorflow) (3.3.1)\n",
      "Requirement already satisfied: python-dateutil>=2.7 in c:\\users\\saadh\\anaconda3\\lib\\site-packages (from matplotlib->music21) (2.8.2)\n",
      "Requirement already satisfied: cycler>=0.10 in c:\\users\\saadh\\anaconda3\\lib\\site-packages (from matplotlib->music21) (0.11.0)\n",
      "Requirement already satisfied: fonttools>=4.22.0 in c:\\users\\saadh\\anaconda3\\lib\\site-packages (from matplotlib->music21) (4.25.0)\n",
      "Requirement already satisfied: kiwisolver>=1.0.1 in c:\\users\\saadh\\anaconda3\\lib\\site-packages (from matplotlib->music21) (1.3.2)\n",
      "Requirement already satisfied: pillow>=6.2.0 in c:\\users\\saadh\\anaconda3\\lib\\site-packages (from matplotlib->music21) (9.0.1)\n",
      "Requirement already satisfied: pyparsing>=2.2.1 in c:\\users\\saadh\\anaconda3\\lib\\site-packages (from matplotlib->music21) (3.0.4)\n"
     ]
    }
   ],
   "source": [
    "pip install music21 numpy keras tensorflow mido"
   ]
  },
  {
   "cell_type": "markdown",
   "metadata": {},
   "source": [
    "###  Step 1: Parse MIDI Files & Extract Notes"
   ]
  },
  {
   "cell_type": "markdown",
   "metadata": {},
   "source": [
    "MIDI files were collected from Kaggle's MIDI Dataset.\n",
    "\n",
    "Each MIDI file was parsed using the music21 library to extract:\n",
    "\n",
    "Notes (e.g., 'C4', 'E5')\n",
    "\n",
    "Chords (e.g., '3.5.8')\n",
    "\n",
    "Notes and chords were serialized and saved for reuse (notes.pkl)."
   ]
  },
  {
   "cell_type": "code",
   "execution_count": 34,
   "metadata": {},
   "outputs": [
    {
     "name": "stdout",
     "output_type": "stream",
     "text": [
      "✅ Notes extracted: 79\n"
     ]
    }
   ],
   "source": [
    "from music21 import converter, instrument, note, chord\n",
    "import glob\n",
    "import pickle\n",
    "\n",
    "notes = []\n",
    "\n",
    "for file in glob.glob(\"midi_songs/*.mid\"):\n",
    "    midi = converter.parse(file)\n",
    "    \n",
    "    parts = instrument.partitionByInstrument(midi)\n",
    "    if parts:  # File has instrument parts\n",
    "        notes_to_parse = parts.parts[0].recurse()\n",
    "    else:\n",
    "        notes_to_parse = midi.flat.notes\n",
    "    \n",
    "    for element in notes_to_parse:\n",
    "        if isinstance(element, note.Note):\n",
    "            notes.append(str(element.pitch))\n",
    "        elif isinstance(element, chord.Chord):\n",
    "            notes.append('.'.join(str(n) for n in element.normalOrder))\n",
    "\n",
    "# Save for later use\n",
    "with open(\"data/notes.pkl\", \"wb\") as f:\n",
    "    pickle.dump(notes, f)\n",
    "\n",
    "print(\"✅ Notes extracted:\", len(notes))\n"
   ]
  },
  {
   "cell_type": "markdown",
   "metadata": {},
   "source": [
    "###  Step 4: Preparing Sequences for Model Input"
   ]
  },
  {
   "cell_type": "code",
   "execution_count": 36,
   "metadata": {},
   "outputs": [
    {
     "name": "stdout",
     "output_type": "stream",
     "text": [
      "✅ Total sequences: 54\n",
      "✅ Sequence preparation complete.\n",
      "Input shape: (54, 25, 1)\n",
      "Output shape: (54, 12)\n"
     ]
    }
   ],
   "source": [
    "import numpy as np\n",
    "from keras.utils import to_categorical\n",
    "import pickle\n",
    "\n",
    "sequence_length = 25  # Lowered to avoid empty sequences\n",
    "\n",
    "# Load notes\n",
    "with open(\"data/notes.pkl\", \"rb\") as f:\n",
    "    notes = pickle.load(f)\n",
    "\n",
    "# Map notes to integers\n",
    "pitchnames = sorted(set(notes))\n",
    "note_to_int = {note: number for number, note in enumerate(pitchnames)}\n",
    "int_to_note = {number: note for note, number in note_to_int.items()}\n",
    "n_vocab = len(pitchnames)\n",
    "\n",
    "network_input = []\n",
    "network_output = []\n",
    "\n",
    "for i in range(0, len(notes) - sequence_length):\n",
    "    seq_in = notes[i:i + sequence_length]\n",
    "    seq_out = notes[i + sequence_length]\n",
    "    network_input.append([note_to_int[note] for note in seq_in])\n",
    "    network_output.append(note_to_int[seq_out])\n",
    "\n",
    "n_patterns = len(network_input)\n",
    "print(f\"✅ Total sequences: {n_patterns}\")\n",
    "\n",
    "# 🛑 Safety check: If no data is generated\n",
    "if n_patterns == 0:\n",
    "    raise ValueError(\"❌ Not enough notes to create sequences. Consider reducing `sequence_length`.\")\n",
    "\n",
    "# Reshape input for LSTM\n",
    "network_input = np.reshape(network_input, (n_patterns, sequence_length, 1))\n",
    "network_input = network_input / float(n_vocab)\n",
    "\n",
    "# One-hot encode the output\n",
    "network_output = to_categorical(network_output)\n",
    "\n",
    "print(\"✅ Sequence preparation complete.\")\n",
    "print(\"Input shape:\", network_input.shape)\n",
    "print(\"Output shape:\", network_output.shape)\n"
   ]
  },
  {
   "cell_type": "markdown",
   "metadata": {},
   "source": [
    "###  Step 5: Defining & Train the LSTM Model"
   ]
  },
  {
   "cell_type": "code",
   "execution_count": 38,
   "metadata": {},
   "outputs": [
    {
     "name": "stdout",
     "output_type": "stream",
     "text": [
      "Model: \"sequential_4\"\n",
      "_________________________________________________________________\n",
      " Layer (type)                Output Shape              Param #   \n",
      "=================================================================\n",
      " lstm_11 (LSTM)              (None, 25, 256)           264192    \n",
      "                                                                 \n",
      " dropout_11 (Dropout)        (None, 25, 256)           0         \n",
      "                                                                 \n",
      " lstm_12 (LSTM)              (None, 256)               525312    \n",
      "                                                                 \n",
      " dense_8 (Dense)             (None, 128)               32896     \n",
      "                                                                 \n",
      " dropout_12 (Dropout)        (None, 128)               0         \n",
      "                                                                 \n",
      " dense_9 (Dense)             (None, 12)                1548      \n",
      "                                                                 \n",
      " activation_4 (Activation)   (None, 12)                0         \n",
      "                                                                 \n",
      "=================================================================\n",
      "Total params: 823,948\n",
      "Trainable params: 823,948\n",
      "Non-trainable params: 0\n",
      "_________________________________________________________________\n"
     ]
    }
   ],
   "source": [
    "from keras.models import Sequential\n",
    "from keras.layers import LSTM, Dropout, Dense, Activation\n",
    "\n",
    "model = Sequential()\n",
    "model.add(LSTM(256, input_shape=(network_input.shape[1], network_input.shape[2]), return_sequences=True))\n",
    "model.add(Dropout(0.3))\n",
    "model.add(LSTM(256))\n",
    "model.add(Dense(128))\n",
    "model.add(Dropout(0.3))\n",
    "model.add(Dense(n_vocab))\n",
    "model.add(Activation('softmax'))\n",
    "\n",
    "model.compile(loss='categorical_crossentropy', optimizer='adam')\n",
    "model.summary()\n",
    "model.save(\"music_gen_model.h5\")"
   ]
  },
  {
   "cell_type": "markdown",
   "metadata": {},
   "source": [
    "###  Step 6: Train the Model"
   ]
  },
  {
   "cell_type": "code",
   "execution_count": 39,
   "metadata": {},
   "outputs": [
    {
     "name": "stdout",
     "output_type": "stream",
     "text": [
      "Epoch 1/50\n",
      "2/2 [==============================] - 5s 55ms/step - loss: 2.4322\n",
      "Epoch 2/50\n",
      "2/2 [==============================] - 0s 51ms/step - loss: 2.0489\n",
      "Epoch 3/50\n",
      "2/2 [==============================] - 0s 52ms/step - loss: 1.8431\n",
      "Epoch 4/50\n",
      "2/2 [==============================] - 0s 55ms/step - loss: 1.7199\n",
      "Epoch 5/50\n",
      "2/2 [==============================] - 0s 60ms/step - loss: 1.7278\n",
      "Epoch 6/50\n",
      "2/2 [==============================] - 0s 59ms/step - loss: 1.7120\n",
      "Epoch 7/50\n",
      "2/2 [==============================] - 0s 58ms/step - loss: 1.7610\n",
      "Epoch 8/50\n",
      "2/2 [==============================] - 0s 59ms/step - loss: 1.6852\n",
      "Epoch 9/50\n",
      "2/2 [==============================] - 0s 65ms/step - loss: 1.7457\n",
      "Epoch 10/50\n",
      "2/2 [==============================] - 0s 67ms/step - loss: 1.6807\n",
      "Epoch 11/50\n",
      "2/2 [==============================] - 0s 53ms/step - loss: 1.7029\n",
      "Epoch 12/50\n",
      "2/2 [==============================] - 0s 54ms/step - loss: 1.6861\n",
      "Epoch 13/50\n",
      "2/2 [==============================] - 0s 58ms/step - loss: 1.6434\n",
      "Epoch 14/50\n",
      "2/2 [==============================] - 0s 56ms/step - loss: 1.6339\n",
      "Epoch 15/50\n",
      "2/2 [==============================] - 0s 58ms/step - loss: 1.6605\n",
      "Epoch 16/50\n",
      "2/2 [==============================] - 0s 68ms/step - loss: 1.6251\n",
      "Epoch 17/50\n",
      "2/2 [==============================] - 0s 63ms/step - loss: 1.6296\n",
      "Epoch 18/50\n",
      "2/2 [==============================] - 0s 58ms/step - loss: 1.6414\n",
      "Epoch 19/50\n",
      "2/2 [==============================] - 0s 59ms/step - loss: 1.6284\n",
      "Epoch 20/50\n",
      "2/2 [==============================] - 0s 57ms/step - loss: 1.5786\n",
      "Epoch 21/50\n",
      "2/2 [==============================] - 0s 50ms/step - loss: 1.6140\n",
      "Epoch 22/50\n",
      "2/2 [==============================] - 0s 57ms/step - loss: 1.5680\n",
      "Epoch 23/50\n",
      "2/2 [==============================] - 0s 56ms/step - loss: 1.5694\n",
      "Epoch 24/50\n",
      "2/2 [==============================] - 0s 58ms/step - loss: 1.5725\n",
      "Epoch 25/50\n",
      "2/2 [==============================] - 0s 56ms/step - loss: 1.4951\n",
      "Epoch 26/50\n",
      "2/2 [==============================] - 0s 66ms/step - loss: 1.5788\n",
      "Epoch 27/50\n",
      "2/2 [==============================] - 0s 58ms/step - loss: 1.5306\n",
      "Epoch 28/50\n",
      "2/2 [==============================] - 0s 64ms/step - loss: 1.6170\n",
      "Epoch 29/50\n",
      "2/2 [==============================] - 0s 70ms/step - loss: 1.4278\n",
      "Epoch 30/50\n",
      "2/2 [==============================] - 0s 89ms/step - loss: 1.4399\n",
      "Epoch 31/50\n",
      "2/2 [==============================] - 0s 62ms/step - loss: 1.3967\n",
      "Epoch 32/50\n",
      "2/2 [==============================] - 0s 62ms/step - loss: 1.4001\n",
      "Epoch 33/50\n",
      "2/2 [==============================] - 0s 60ms/step - loss: 1.3413\n",
      "Epoch 34/50\n",
      "2/2 [==============================] - 0s 63ms/step - loss: 1.3223\n",
      "Epoch 35/50\n",
      "2/2 [==============================] - 0s 72ms/step - loss: 1.4033\n",
      "Epoch 36/50\n",
      "2/2 [==============================] - 0s 68ms/step - loss: 1.2265\n",
      "Epoch 37/50\n",
      "2/2 [==============================] - 0s 67ms/step - loss: 1.4121\n",
      "Epoch 38/50\n",
      "2/2 [==============================] - 0s 74ms/step - loss: 1.5215\n",
      "Epoch 39/50\n",
      "2/2 [==============================] - 0s 64ms/step - loss: 1.2825\n",
      "Epoch 40/50\n",
      "2/2 [==============================] - 0s 65ms/step - loss: 1.3397\n",
      "Epoch 41/50\n",
      "2/2 [==============================] - 0s 62ms/step - loss: 1.2886\n",
      "Epoch 42/50\n",
      "2/2 [==============================] - 0s 58ms/step - loss: 1.3474\n",
      "Epoch 43/50\n",
      "2/2 [==============================] - 0s 60ms/step - loss: 1.2400\n",
      "Epoch 44/50\n",
      "2/2 [==============================] - 0s 57ms/step - loss: 1.1435\n",
      "Epoch 45/50\n",
      "2/2 [==============================] - 0s 59ms/step - loss: 1.2962\n",
      "Epoch 46/50\n",
      "2/2 [==============================] - 0s 62ms/step - loss: 1.1256\n",
      "Epoch 47/50\n",
      "2/2 [==============================] - 0s 62ms/step - loss: 1.1646\n",
      "Epoch 48/50\n",
      "2/2 [==============================] - 0s 56ms/step - loss: 1.1248\n",
      "Epoch 49/50\n",
      "2/2 [==============================] - 0s 79ms/step - loss: 1.0872\n",
      "Epoch 50/50\n",
      "2/2 [==============================] - 0s 68ms/step - loss: 0.9921\n"
     ]
    },
    {
     "data": {
      "text/plain": [
       "<keras.callbacks.History at 0x24b0f745d00>"
      ]
     },
     "execution_count": 39,
     "metadata": {},
     "output_type": "execute_result"
    }
   ],
   "source": [
    "model.fit(network_input, network_output, epochs=50, batch_size=32)"
   ]
  },
  {
   "cell_type": "code",
   "execution_count": 40,
   "metadata": {},
   "outputs": [],
   "source": [
    "model.save(\"music_model.h5\")"
   ]
  },
  {
   "cell_type": "markdown",
   "metadata": {},
   "source": [
    "###  Step 7: Generate Notes from the Trained Model"
   ]
  },
  {
   "cell_type": "code",
   "execution_count": 41,
   "metadata": {},
   "outputs": [],
   "source": [
    "import numpy as np\n",
    "\n",
    "def generate_notes(model, network_input, int_to_note, n_vocab, generate_length=100):\n",
    "    start = np.random.randint(0, len(network_input) - 1)\n",
    "    pattern = network_input[start]\n",
    "    pattern = pattern.reshape(1, len(pattern), 1)\n",
    "\n",
    "    prediction_output = []\n",
    "\n",
    "    for note_index in range(generate_length):\n",
    "        prediction = model.predict(pattern, verbose=0)\n",
    "        index = np.argmax(prediction)\n",
    "        result = int_to_note.get(index, None)\n",
    "        if result:\n",
    "            prediction_output.append(result)\n",
    "\n",
    "        # update input pattern\n",
    "        pattern = np.append(pattern[:, 1:, :], [[ [index / float(n_vocab)] ]], axis=1)\n",
    "\n",
    "    return prediction_output\n"
   ]
  },
  {
   "cell_type": "markdown",
   "metadata": {},
   "source": [
    "###  Step 8: Convert Notes to MIDI File"
   ]
  },
  {
   "cell_type": "code",
   "execution_count": null,
   "metadata": {},
   "outputs": [],
   "source": [
    "from music21 import instrument, note, chord, stream\n",
    "\n",
    "def create_midi(prediction_output, filename=\"output.mid\"):\n",
    "    offset = 0\n",
    "    output_notes = []\n",
    "\n",
    "    for pattern in prediction_output:\n",
    "        # chord\n",
    "        if ('.' in pattern) or pattern.isdigit():\n",
    "            notes_in_chord = pattern.split('.')\n",
    "            chord_notes = []\n",
    "            for current_note in notes_in_chord:\n",
    "                chord_notes.append(note.Note(int(current_note)))\n",
    "            new_chord = chord.Chord(chord_notes)\n",
    "            new_chord.offset = offset\n",
    "            output_notes.append(new_chord)\n",
    "        else:\n",
    "            # single note\n",
    "            new_note = note.Note(pattern)\n",
    "            new_note.offset = offset\n",
    "            output_notes.append(new_note)\n",
    "\n",
    "        offset += 0.5  # duration between notes\n",
    "\n",
    "    midi_stream = stream.Stream(output_notes)\n",
    "    midi_stream.write('midi', fp=filename)\n"
   ]
  },
  {
   "cell_type": "markdown",
   "metadata": {},
   "source": [
    "### Step 9: Generate and Save Music"
   ]
  },
  {
   "cell_type": "markdown",
   "metadata": {},
   "source": [
    "generated_notes = generate_notes(model, network_input, int_to_note, n_vocab, generate_length=100)\n",
    "create_midi(generated_notes, filename=\"generated_music.mid\")"
   ]
  },
  {
   "cell_type": "markdown",
   "metadata": {},
   "source": []
  },
  {
   "cell_type": "code",
   "execution_count": 46,
   "metadata": {},
   "outputs": [
    {
     "data": {
      "image/png": "[encoded data removed]",
      "text/plain": [
       "<Figure size 1008x288 with 1 Axes>"
      ]
     },
     "metadata": {
      "image/png": {
       "height": 276,
       "width": 815
      },
      "needs_background": "light"
     },
     "output_type": "display_data"
    }
   ],
   "source": [
    "from collections import Counter\n",
    "import matplotlib.pyplot as plt\n",
    "\n",
    "note_counts = Counter(notes)\n",
    "plt.figure(figsize=(14,4))\n",
    "plt.bar(*zip(*note_counts.most_common(20)))\n",
    "plt.title(\"Top 20 Most Common Notes/Chords\")\n",
    "plt.xticks(rotation=90)\n",
    "plt.show()"
   ]
  },
  {
   "cell_type": "code",
   "execution_count": 49,
   "metadata": {},
   "outputs": [
    {
     "name": "stdout",
     "output_type": "stream",
     "text": [
      "Epoch 1/100\n",
      "1/1 [==============================] - 0s 91ms/step - loss: 0.5209\n",
      "Epoch 2/100\n",
      "1/1 [==============================] - 0s 100ms/step - loss: 0.4631\n",
      "Epoch 3/100\n",
      "1/1 [==============================] - 0s 88ms/step - loss: 0.5561\n",
      "Epoch 4/100\n",
      "1/1 [==============================] - 0s 87ms/step - loss: 0.5550\n",
      "Epoch 5/100\n",
      "1/1 [==============================] - 0s 108ms/step - loss: 0.4977\n",
      "Epoch 6/100\n",
      "1/1 [==============================] - 0s 85ms/step - loss: 0.5156\n",
      "Epoch 7/100\n",
      "1/1 [==============================] - 0s 88ms/step - loss: 0.5594\n",
      "Epoch 8/100\n",
      "1/1 [==============================] - 0s 100ms/step - loss: 0.4577\n",
      "Epoch 9/100\n",
      "1/1 [==============================] - 0s 95ms/step - loss: 0.5043\n",
      "Epoch 10/100\n",
      "1/1 [==============================] - 0s 112ms/step - loss: 0.5214\n",
      "Epoch 11/100\n",
      "1/1 [==============================] - 0s 104ms/step - loss: 0.5469\n",
      "Epoch 12/100\n",
      "1/1 [==============================] - 0s 90ms/step - loss: 0.4927\n",
      "Epoch 13/100\n",
      "1/1 [==============================] - 0s 100ms/step - loss: 0.6685\n",
      "Epoch 14/100\n",
      "1/1 [==============================] - 0s 96ms/step - loss: 0.5351\n",
      "Epoch 15/100\n",
      "1/1 [==============================] - 0s 92ms/step - loss: 0.5021\n",
      "Epoch 16/100\n",
      "1/1 [==============================] - 0s 84ms/step - loss: 0.4726\n",
      "Epoch 17/100\n",
      "1/1 [==============================] - 0s 80ms/step - loss: 0.4805\n",
      "Epoch 18/100\n",
      "1/1 [==============================] - 0s 85ms/step - loss: 0.5217\n",
      "Epoch 19/100\n",
      "1/1 [==============================] - 0s 84ms/step - loss: 0.4869\n",
      "Epoch 20/100\n",
      "1/1 [==============================] - 0s 89ms/step - loss: 0.4890\n",
      "Epoch 21/100\n",
      "1/1 [==============================] - 0s 89ms/step - loss: 0.4845\n",
      "Epoch 22/100\n",
      "1/1 [==============================] - 0s 96ms/step - loss: 0.4100\n",
      "Epoch 23/100\n",
      "1/1 [==============================] - 0s 98ms/step - loss: 0.3940\n",
      "Epoch 24/100\n",
      "1/1 [==============================] - 0s 89ms/step - loss: 0.4781\n",
      "Epoch 25/100\n",
      "1/1 [==============================] - 0s 84ms/step - loss: 0.4233\n",
      "Epoch 26/100\n",
      "1/1 [==============================] - 0s 85ms/step - loss: 0.4991\n",
      "Epoch 27/100\n",
      "1/1 [==============================] - 0s 87ms/step - loss: 0.3617\n",
      "Epoch 28/100\n",
      "1/1 [==============================] - 0s 89ms/step - loss: 0.4328\n",
      "Epoch 29/100\n",
      "1/1 [==============================] - 0s 86ms/step - loss: 0.3450\n",
      "Epoch 30/100\n",
      "1/1 [==============================] - 0s 86ms/step - loss: 0.4148\n",
      "Epoch 31/100\n",
      "1/1 [==============================] - 0s 89ms/step - loss: 0.4038\n",
      "Epoch 32/100\n",
      "1/1 [==============================] - 0s 88ms/step - loss: 0.4701\n",
      "Epoch 33/100\n",
      "1/1 [==============================] - 0s 87ms/step - loss: 0.4917\n",
      "Epoch 34/100\n",
      "1/1 [==============================] - 0s 88ms/step - loss: 3.2210\n",
      "Epoch 35/100\n",
      "1/1 [==============================] - 0s 88ms/step - loss: 6.8245\n",
      "Epoch 36/100\n",
      "1/1 [==============================] - 0s 93ms/step - loss: 7.1585\n",
      "Epoch 37/100\n",
      "1/1 [==============================] - 0s 103ms/step - loss: 5.3656\n",
      "Epoch 38/100\n",
      "1/1 [==============================] - 0s 94ms/step - loss: 3.9454\n",
      "Epoch 39/100\n",
      "1/1 [==============================] - 0s 85ms/step - loss: 3.1680\n",
      "Epoch 40/100\n",
      "1/1 [==============================] - 0s 93ms/step - loss: 2.6243\n",
      "Epoch 41/100\n",
      "1/1 [==============================] - 0s 90ms/step - loss: 2.2434\n",
      "Epoch 42/100\n",
      "1/1 [==============================] - 0s 91ms/step - loss: 2.1039\n",
      "Epoch 43/100\n",
      "1/1 [==============================] - 0s 86ms/step - loss: 2.1492\n",
      "Epoch 44/100\n",
      "1/1 [==============================] - 0s 84ms/step - loss: 1.8273\n",
      "Epoch 45/100\n",
      "1/1 [==============================] - 0s 87ms/step - loss: 1.6576\n",
      "Epoch 46/100\n",
      "1/1 [==============================] - 0s 86ms/step - loss: 1.4748\n",
      "Epoch 47/100\n",
      "1/1 [==============================] - 0s 83ms/step - loss: 1.3966\n",
      "Epoch 48/100\n",
      "1/1 [==============================] - 0s 90ms/step - loss: 1.4901\n",
      "Epoch 49/100\n",
      "1/1 [==============================] - 0s 104ms/step - loss: 1.5800\n",
      "Epoch 50/100\n",
      "1/1 [==============================] - 0s 102ms/step - loss: 1.5646\n",
      "Epoch 51/100\n",
      "1/1 [==============================] - 0s 106ms/step - loss: 1.4607\n",
      "Epoch 52/100\n",
      "1/1 [==============================] - 0s 92ms/step - loss: 1.3510\n",
      "Epoch 53/100\n",
      "1/1 [==============================] - 0s 92ms/step - loss: 1.4353\n",
      "Epoch 54/100\n",
      "1/1 [==============================] - 0s 91ms/step - loss: 1.4547\n",
      "Epoch 55/100\n",
      "1/1 [==============================] - 0s 88ms/step - loss: 1.4444\n",
      "Epoch 56/100\n",
      "1/1 [==============================] - 0s 92ms/step - loss: 1.4029\n",
      "Epoch 57/100\n",
      "1/1 [==============================] - 0s 89ms/step - loss: 1.3562\n",
      "Epoch 58/100\n",
      "1/1 [==============================] - 0s 85ms/step - loss: 1.3063\n",
      "Epoch 59/100\n",
      "1/1 [==============================] - 0s 111ms/step - loss: 1.3016\n",
      "Epoch 60/100\n",
      "1/1 [==============================] - 0s 87ms/step - loss: 1.2579\n",
      "Epoch 61/100\n",
      "1/1 [==============================] - 0s 88ms/step - loss: 1.2345\n",
      "Epoch 62/100\n",
      "1/1 [==============================] - 0s 96ms/step - loss: 1.2313\n",
      "Epoch 63/100\n",
      "1/1 [==============================] - 0s 96ms/step - loss: 1.1751\n",
      "Epoch 64/100\n",
      "1/1 [==============================] - 0s 113ms/step - loss: 1.1593\n",
      "Epoch 65/100\n",
      "1/1 [==============================] - 0s 95ms/step - loss: 1.1595\n",
      "Epoch 66/100\n",
      "1/1 [==============================] - 0s 101ms/step - loss: 1.1229\n",
      "Epoch 67/100\n",
      "1/1 [==============================] - 0s 93ms/step - loss: 1.1150\n",
      "Epoch 68/100\n",
      "1/1 [==============================] - 0s 92ms/step - loss: 1.0999\n",
      "Epoch 69/100\n",
      "1/1 [==============================] - 0s 91ms/step - loss: 1.0238\n",
      "Epoch 70/100\n",
      "1/1 [==============================] - 0s 84ms/step - loss: 1.0638\n",
      "Epoch 71/100\n",
      "1/1 [==============================] - 0s 92ms/step - loss: 1.0812\n",
      "Epoch 72/100\n",
      "1/1 [==============================] - 0s 89ms/step - loss: 1.0280\n",
      "Epoch 73/100\n",
      "1/1 [==============================] - 0s 89ms/step - loss: 0.9772\n",
      "Epoch 74/100\n",
      "1/1 [==============================] - 0s 90ms/step - loss: 0.9584\n",
      "Epoch 75/100\n",
      "1/1 [==============================] - 0s 89ms/step - loss: 0.9616\n",
      "Epoch 76/100\n",
      "1/1 [==============================] - 0s 92ms/step - loss: 0.9559\n",
      "Epoch 77/100\n",
      "1/1 [==============================] - 0s 96ms/step - loss: 0.9471\n",
      "Epoch 78/100\n",
      "1/1 [==============================] - 0s 93ms/step - loss: 0.9207\n",
      "Epoch 79/100\n",
      "1/1 [==============================] - 0s 89ms/step - loss: 0.8720\n",
      "Epoch 80/100\n",
      "1/1 [==============================] - 0s 93ms/step - loss: 0.8456\n",
      "Epoch 81/100\n",
      "1/1 [==============================] - 0s 97ms/step - loss: 0.8829\n",
      "Epoch 82/100\n",
      "1/1 [==============================] - 0s 98ms/step - loss: 0.8135\n",
      "Epoch 83/100\n",
      "1/1 [==============================] - 0s 98ms/step - loss: 0.8910\n",
      "Epoch 84/100\n",
      "1/1 [==============================] - 0s 114ms/step - loss: 0.8196\n",
      "Epoch 85/100\n",
      "1/1 [==============================] - 0s 101ms/step - loss: 0.7908\n",
      "Epoch 86/100\n",
      "1/1 [==============================] - 0s 102ms/step - loss: 0.7551\n",
      "Epoch 87/100\n",
      "1/1 [==============================] - 0s 98ms/step - loss: 0.6792\n",
      "Epoch 88/100\n",
      "1/1 [==============================] - 0s 92ms/step - loss: 0.7132\n",
      "Epoch 89/100\n",
      "1/1 [==============================] - 0s 124ms/step - loss: 0.6875\n",
      "Epoch 90/100\n",
      "1/1 [==============================] - 0s 92ms/step - loss: 0.6952\n",
      "Epoch 91/100\n",
      "1/1 [==============================] - 0s 93ms/step - loss: 0.6494\n",
      "Epoch 92/100\n",
      "1/1 [==============================] - 0s 89ms/step - loss: 0.6494\n",
      "Epoch 93/100\n",
      "1/1 [==============================] - 0s 91ms/step - loss: 0.6227\n",
      "Epoch 94/100\n",
      "1/1 [==============================] - 0s 90ms/step - loss: 0.9152\n",
      "Epoch 95/100\n",
      "1/1 [==============================] - 0s 90ms/step - loss: 0.9374\n",
      "Epoch 96/100\n",
      "1/1 [==============================] - 0s 92ms/step - loss: 1.3670\n",
      "Epoch 97/100\n",
      "1/1 [==============================] - 0s 86ms/step - loss: 1.2937\n",
      "Epoch 98/100\n",
      "1/1 [==============================] - 0s 93ms/step - loss: 1.0569\n",
      "Epoch 99/100\n",
      "1/1 [==============================] - 0s 91ms/step - loss: 0.9484\n",
      "Epoch 100/100\n",
      "1/1 [==============================] - 0s 89ms/step - loss: 1.0629\n"
     ]
    }
   ],
   "source": [
    "history = model.fit(network_input, network_output, epochs=100, batch_size=64)"
   ]
  },
  {
   "cell_type": "code",
   "execution_count": 50,
   "metadata": {},
   "outputs": [
    {
     "data": {
      "image/png": "[encoded data removed]",
      "text/plain": [
       "<Figure size 432x288 with 1 Axes>"
      ]
     },
     "metadata": {
      "image/png": {
       "height": 277,
       "width": 376
      },
      "needs_background": "light"
     },
     "output_type": "display_data"
    }
   ],
   "source": [
    "plt.plot(history.history['loss'], label='Training Loss')\n",
    "plt.title(\"Training Loss over Epochs\")\n",
    "plt.xlabel(\"Epoch\")\n",
    "plt.ylabel(\"Loss\")\n",
    "plt.legend()\n",
    "plt.show()"
   ]
  },
  {
   "cell_type": "code",
   "execution_count": null,
   "metadata": {},
   "outputs": [],
   "source": []
  }
 ],
 "metadata": {
  "colab": {
   "provenance": []
  },
  "kernelspec": {
   "display_name": "Python 3 (ipykernel)",
   "language": "python",
   "name": "python3"
  },
  "language_info": {
   "codemirror_mode": {
    "name": "ipython",
    "version": 3
   },
   "file_extension": ".py",
   "mimetype": "text/x-python",
   "name": "python",
   "nbconvert_exporter": "python",
   "pygments_lexer": "ipython3",
   "version": "3.9.12"
  }
 },
 "nbformat": 4,
 "nbformat_minor": 1
}
